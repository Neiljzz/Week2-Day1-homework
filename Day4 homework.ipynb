{
 "cells": [
  {
   "cell_type": "markdown",
   "id": "0fffef6c",
   "metadata": {},
   "source": [
    "# Exercises"
   ]
  },
  {
   "cell_type": "markdown",
   "id": "0b314d1f",
   "metadata": {},
   "source": [
    "### 1) Create a program that allows a user to continue to add people to an address book until the user quits. Once the user quits, break out of the loop and print out the name and address of everyone in the address book"
   ]
  },
  {
   "cell_type": "markdown",
   "id": "8c7dcf47",
   "metadata": {},
   "source": [
    "###### Steps\n",
    "1. Create a function that will ask user for name and addresses and stores them in a dictionary\n",
    "2. Define an empty dictionary with which to work (global or local variable?)\n",
    "3. Begin a loop that will continue to ask a user for information until the user \"quits\"\n",
    "4. If the user does not quit, ask for a name and address and store the variables into variables\n",
    "5. Add information to the dictionary with name as the key and address as the value\n",
    "6. If the user does quit, end the loop\n",
    "7. Print out the information from the dictionary in a formatted way\n",
    "8. Execute/Call the function"
   ]
  },
  {
   "cell_type": "code",
   "execution_count": 22,
   "id": "1e4b36f5",
   "metadata": {},
   "outputs": [],
   "source": [
    "def user_info():\n",
    "    user_dict = {} \n",
    "    user_name= input(\"What's your name?\")\n",
    "    while user_name != \"quit\":\n",
    "        user_address = input (\"What's your address?\")\n",
    "        if user_address == \"quit\":\n",
    "            break\n",
    "        user_dict[user_name]= user_address\n",
    "\n",
    "    for user_name, user_address in user_dict.items():\n",
    "        print(f\"user_info: {user_name}, {user_address}\")\n"
   ]
  },
  {
   "cell_type": "code",
   "execution_count": 29,
   "id": "3837be34",
   "metadata": {},
   "outputs": [
    {
     "ename": "KeyboardInterrupt",
     "evalue": "Interrupted by user",
     "output_type": "error",
     "traceback": [
      "\u001b[0;31m---------------------------------------------------------------------------\u001b[0m",
      "\u001b[0;31mKeyboardInterrupt\u001b[0m                         Traceback (most recent call last)",
      "\u001b[0;32m/var/folders/4n/q7qmn_sn50q71qnwmq547r7w0000gn/T/ipykernel_24332/1657714091.py\u001b[0m in \u001b[0;36m<module>\u001b[0;34m\u001b[0m\n\u001b[1;32m     15\u001b[0m         \u001b[0mprint\u001b[0m\u001b[0;34m(\u001b[0m\u001b[0;34mf\"{name}lives at {address}\"\u001b[0m\u001b[0;34m)\u001b[0m\u001b[0;34m\u001b[0m\u001b[0;34m\u001b[0m\u001b[0m\n\u001b[1;32m     16\u001b[0m \u001b[0;34m\u001b[0m\u001b[0m\n\u001b[0;32m---> 17\u001b[0;31m \u001b[0mrun\u001b[0m\u001b[0;34m(\u001b[0m\u001b[0;34m)\u001b[0m\u001b[0;34m\u001b[0m\u001b[0;34m\u001b[0m\u001b[0m\n\u001b[0m",
      "\u001b[0;32m/var/folders/4n/q7qmn_sn50q71qnwmq547r7w0000gn/T/ipykernel_24332/1657714091.py\u001b[0m in \u001b[0;36mrun\u001b[0;34m()\u001b[0m\n\u001b[1;32m      3\u001b[0m     \u001b[0mkeep_running\u001b[0m \u001b[0;34m=\u001b[0m \u001b[0;32mTrue\u001b[0m\u001b[0;34m\u001b[0m\u001b[0;34m\u001b[0m\u001b[0m\n\u001b[1;32m      4\u001b[0m     \u001b[0;32mwhile\u001b[0m \u001b[0mkeep_running\u001b[0m\u001b[0;34m:\u001b[0m\u001b[0;34m\u001b[0m\u001b[0;34m\u001b[0m\u001b[0m\n\u001b[0;32m----> 5\u001b[0;31m         \u001b[0mname\u001b[0m \u001b[0;34m=\u001b[0m \u001b[0minput\u001b[0m \u001b[0;34m(\u001b[0m\u001b[0;34m\"who would you like to add to the address book?\"\u001b[0m\u001b[0;34m)\u001b[0m\u001b[0;34m\u001b[0m\u001b[0;34m\u001b[0m\u001b[0m\n\u001b[0m\u001b[1;32m      6\u001b[0m         \u001b[0maddress\u001b[0m \u001b[0;34m=\u001b[0m \u001b[0minput\u001b[0m\u001b[0;34m(\u001b[0m\u001b[0;34mf\"What is {name}'s address?\"\u001b[0m\u001b[0;34m)\u001b[0m\u001b[0;34m\u001b[0m\u001b[0;34m\u001b[0m\u001b[0m\n\u001b[1;32m      7\u001b[0m         \u001b[0maddress_book\u001b[0m\u001b[0;34m[\u001b[0m\u001b[0mname\u001b[0m\u001b[0;34m]\u001b[0m\u001b[0;34m=\u001b[0m\u001b[0maddress\u001b[0m\u001b[0;34m\u001b[0m\u001b[0;34m\u001b[0m\u001b[0m\n",
      "\u001b[0;32m~/opt/anaconda3/lib/python3.9/site-packages/ipykernel/kernelbase.py\u001b[0m in \u001b[0;36mraw_input\u001b[0;34m(self, prompt)\u001b[0m\n\u001b[1;32m   1175\u001b[0m                 \u001b[0;34m\"raw_input was called, but this frontend does not support input requests.\"\u001b[0m\u001b[0;34m\u001b[0m\u001b[0;34m\u001b[0m\u001b[0m\n\u001b[1;32m   1176\u001b[0m             )\n\u001b[0;32m-> 1177\u001b[0;31m         return self._input_request(\n\u001b[0m\u001b[1;32m   1178\u001b[0m             \u001b[0mstr\u001b[0m\u001b[0;34m(\u001b[0m\u001b[0mprompt\u001b[0m\u001b[0;34m)\u001b[0m\u001b[0;34m,\u001b[0m\u001b[0;34m\u001b[0m\u001b[0;34m\u001b[0m\u001b[0m\n\u001b[1;32m   1179\u001b[0m             \u001b[0mself\u001b[0m\u001b[0;34m.\u001b[0m\u001b[0m_parent_ident\u001b[0m\u001b[0;34m[\u001b[0m\u001b[0;34m\"shell\"\u001b[0m\u001b[0;34m]\u001b[0m\u001b[0;34m,\u001b[0m\u001b[0;34m\u001b[0m\u001b[0;34m\u001b[0m\u001b[0m\n",
      "\u001b[0;32m~/opt/anaconda3/lib/python3.9/site-packages/ipykernel/kernelbase.py\u001b[0m in \u001b[0;36m_input_request\u001b[0;34m(self, prompt, ident, parent, password)\u001b[0m\n\u001b[1;32m   1217\u001b[0m             \u001b[0;32mexcept\u001b[0m \u001b[0mKeyboardInterrupt\u001b[0m\u001b[0;34m:\u001b[0m\u001b[0;34m\u001b[0m\u001b[0;34m\u001b[0m\u001b[0m\n\u001b[1;32m   1218\u001b[0m                 \u001b[0;31m# re-raise KeyboardInterrupt, to truncate traceback\u001b[0m\u001b[0;34m\u001b[0m\u001b[0;34m\u001b[0m\u001b[0m\n\u001b[0;32m-> 1219\u001b[0;31m                 \u001b[0;32mraise\u001b[0m \u001b[0mKeyboardInterrupt\u001b[0m\u001b[0;34m(\u001b[0m\u001b[0;34m\"Interrupted by user\"\u001b[0m\u001b[0;34m)\u001b[0m \u001b[0;32mfrom\u001b[0m \u001b[0;32mNone\u001b[0m\u001b[0;34m\u001b[0m\u001b[0;34m\u001b[0m\u001b[0m\n\u001b[0m\u001b[1;32m   1220\u001b[0m             \u001b[0;32mexcept\u001b[0m \u001b[0mException\u001b[0m\u001b[0;34m:\u001b[0m\u001b[0;34m\u001b[0m\u001b[0;34m\u001b[0m\u001b[0m\n\u001b[1;32m   1221\u001b[0m                 \u001b[0mself\u001b[0m\u001b[0;34m.\u001b[0m\u001b[0mlog\u001b[0m\u001b[0;34m.\u001b[0m\u001b[0mwarning\u001b[0m\u001b[0;34m(\u001b[0m\u001b[0;34m\"Invalid Message:\"\u001b[0m\u001b[0;34m,\u001b[0m \u001b[0mexc_info\u001b[0m\u001b[0;34m=\u001b[0m\u001b[0;32mTrue\u001b[0m\u001b[0;34m)\u001b[0m\u001b[0;34m\u001b[0m\u001b[0;34m\u001b[0m\u001b[0m\n",
      "\u001b[0;31mKeyboardInterrupt\u001b[0m: Interrupted by user"
     ]
    }
   ],
   "source": [
    "def run():\n",
    "    address_book = {}\n",
    "    keep_running = True\n",
    "    while keep_running:\n",
    "        name = input (\"who would you like to add to the address book?\")\n",
    "        address = input(f\"What is {name}'s address?\")\n",
    "        address_book[name]=address\n",
    "        ask = input (\"Would you like to continue?y/n\")\n",
    "        while ask not in {\"y\",\"n\"}:\n",
    "            ask = input (\"That is not a valid response, Please enter 'y' to continue or 'n' to quit\")\n",
    "        if ask == \"n\":\n",
    "            keep_running = False\n",
    "        \n",
    "    for name, address in address_book.items():\n",
    "        print(f\"{name}lives at {address}\")\n",
    "        \n",
    "run()     "
   ]
  },
  {
   "cell_type": "markdown",
   "id": "6b7cf23d",
   "metadata": {},
   "source": [
    "2) Best Time to Meet"
   ]
  },
  {
   "cell_type": "markdown",
   "id": "5fc37855",
   "metadata": {},
   "source": [
    "Billy is trying to figure out if there is a time that he and his team can meet to work on the project. His three teammates each give him a list of times they are available ('HH:MM' 24-hour). Create a function that will take in an original list plus any number of lists of teammate's available times (remember *args) and return a list of times where everyone can meet"
   ]
  },
  {
   "cell_type": "code",
   "execution_count": 37,
   "id": "64c896b2",
   "metadata": {},
   "outputs": [],
   "source": [
    "person1 = ['09:00', '10:30', '11:30', '12:00', '13:00', '14:30']\n",
    "person2 = ['09:30', '10:00', '10:30', '12:00', '14:30', '16:00']\n",
    "person3 = ['09:00', '09:30', '11:00', '11:30', '12:00', '13:30', '14:30', '15:00']\n",
    "person4 = ['11:00', '11:30', '12:00', '14:00', '14:30', '16:30', '17:00']\n",
    "# Available Times: '12:00' and '14:30'"
   ]
  },
  {
   "cell_type": "code",
   "execution_count": 38,
   "id": "3f9ae947",
   "metadata": {},
   "outputs": [
    {
     "data": {
      "text/plain": [
       "{'12:00', '14:30'}"
      ]
     },
     "execution_count": 38,
     "metadata": {},
     "output_type": "execute_result"
    }
   ],
   "source": [
    "def avail_times(time1, *times):\n",
    "    all_avail = set (time1)\n",
    "    for time in times:\n",
    "        time_set = set (time)\n",
    "        all_avail = all_avail.intersection (time_set)\n",
    "    return all_avail\n",
    "\n",
    "avail_times(person1,person2, person3, person4)"
   ]
  },
  {
   "cell_type": "code",
   "execution_count": 39,
   "id": "b7704d77",
   "metadata": {},
   "outputs": [],
   "source": [
    "def common_times(original_list,*person_lists):\n",
    "    common_times = set(person1)&set(person2)&set(person3)&set(person4).intersection(*teammates_lists)\n",
    "    return(common_times)"
   ]
  },
  {
   "cell_type": "code",
   "execution_count": null,
   "id": "59458002",
   "metadata": {},
   "outputs": [],
   "source": []
  }
 ],
 "metadata": {
  "kernelspec": {
   "display_name": "Python 3 (ipykernel)",
   "language": "python",
   "name": "python3"
  },
  "language_info": {
   "codemirror_mode": {
    "name": "ipython",
    "version": 3
   },
   "file_extension": ".py",
   "mimetype": "text/x-python",
   "name": "python",
   "nbconvert_exporter": "python",
   "pygments_lexer": "ipython3",
   "version": "3.9.13"
  }
 },
 "nbformat": 4,
 "nbformat_minor": 5
}
