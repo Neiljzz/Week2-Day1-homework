{
 "cells": [
  {
   "cell_type": "markdown",
   "id": "0fffef6c",
   "metadata": {},
   "source": [
    "# Exercises"
   ]
  },
  {
   "cell_type": "markdown",
   "id": "0b314d1f",
   "metadata": {},
   "source": [
    "### 1) Create a program that allows a user to continue to add people to an address book until the user quits. Once the user quits, break out of the loop and print out the name and address of everyone in the address book"
   ]
  },
  {
   "cell_type": "markdown",
   "id": "8c7dcf47",
   "metadata": {},
   "source": [
    "###### Steps\n",
    "1. Create a function that will ask user for name and addresses and stores them in a dictionary\n",
    "2. Define an empty dictionary with which to work (global or local variable?)\n",
    "3. Begin a loop that will continue to ask a user for information until the user \"quits\"\n",
    "4. If the user does not quit, ask for a name and address and store the variables into variables\n",
    "5. Add information to the dictionary with name as the key and address as the value\n",
    "6. If the user does quit, end the loop\n",
    "7. Print out the information from the dictionary in a formatted way\n",
    "8. Execute/Call the function"
   ]
  },
  {
   "cell_type": "code",
   "execution_count": 3,
   "id": "1e4b36f5",
   "metadata": {},
   "outputs": [],
   "source": [
    "def user_info():\n",
    "    user_dict = {} \n",
    "    user_name= input(\"What's your name?\")\n",
    "    while user_name != \"quit\":\n",
    "        user_address = input (\"What's your address?\")\n",
    "        if user_address == \"quit\":\n",
    "            break\n",
    "        user_dict[user_name]= user_address\n",
    "\n",
    "    for user_name, user_address in user_dict.items():\n",
    "        print(f\"user_info: {user_name}, {user_address}\")\n"
   ]
  },
  {
   "cell_type": "markdown",
   "id": "6b7cf23d",
   "metadata": {},
   "source": [
    "2) Best Time to Meet"
   ]
  },
  {
   "cell_type": "markdown",
   "id": "5fc37855",
   "metadata": {},
   "source": [
    "Billy is trying to figure out if there is a time that he and his team can meet to work on the project. His three teammates each give him a list of times they are available ('HH:MM' 24-hour). Create a function that will take in an original list plus any number of lists of teammate's available times (remember *args) and return a list of times where everyone can meet"
   ]
  },
  {
   "cell_type": "markdown",
   "id": "e10501fb",
   "metadata": {},
   "source": [
    "person1 = ['09:00', '10:30', '11:30', '12:00', '13:00', '14:30']\n",
    "person2 = ['09:30', '10:00', '10:30', '12:00', '14:30', '16:00']\n",
    "person3 = ['09:00', '09:30', '11:00', '11:30', '12:00', '13:30', '14:30', '15:00']\n",
    "person4 = ['11:00', '11:30', '12:00', '14:00', '14:30', '16:30', '17:00']\n",
    "# Available Times: '12:00' and '14:30'"
   ]
  },
  {
   "cell_type": "code",
   "execution_count": null,
   "id": "b7704d77",
   "metadata": {},
   "outputs": [],
   "source": [
    "def common_times(original_list,*person_lists):\n",
    "    common_times = set(person1)&set(person2)&set(person3)&set(person4).intersection(*teammates_lists)\n",
    "    return(common_times)"
   ]
  },
  {
   "cell_type": "code",
   "execution_count": null,
   "id": "05a07d34",
   "metadata": {},
   "outputs": [],
   "source": []
  }
 ],
 "metadata": {
  "kernelspec": {
   "display_name": "Python 3 (ipykernel)",
   "language": "python",
   "name": "python3"
  },
  "language_info": {
   "codemirror_mode": {
    "name": "ipython",
    "version": 3
   },
   "file_extension": ".py",
   "mimetype": "text/x-python",
   "name": "python",
   "nbconvert_exporter": "python",
   "pygments_lexer": "ipython3",
   "version": "3.9.13"
  }
 },
 "nbformat": 4,
 "nbformat_minor": 5
}
