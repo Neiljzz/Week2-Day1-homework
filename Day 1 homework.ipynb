{
 "cells": [
  {
   "cell_type": "markdown",
   "id": "8dd7e73e",
   "metadata": {},
   "source": [
    "# Exercise #1 <br>\n",
    "<p>Cube Number Test... Print out all cubed numbers up to the total value 1000. Meaning that if the cubed number is over 1000 break the loop.</p>"
   ]
  },
  {
   "cell_type": "code",
   "execution_count": null,
   "id": "0951ade2",
   "metadata": {},
   "outputs": [],
   "source": [
    "list_num = []\n",
    "i = 1\n",
    "while True:\n",
    "    num = i ** 3\n",
    "    if num > 1000:\n",
    "        break\n",
    "    else:\n",
    "        list_num.append(num)\n",
    "    i+=1\n",
    "print(list_num)\n"
   ]
  },
  {
   "cell_type": "markdown",
   "id": "0f8c6640",
   "metadata": {},
   "source": [
    "# Exercise #2\n",
    "Get first prime numbers up to 100"
   ]
  },
  {
   "cell_type": "code",
   "execution_count": null,
   "id": "863b9d23",
   "metadata": {},
   "outputs": [],
   "source": [
    "prime_list=[]\n",
    "num = 2\n",
    "while len(prime_list) < 100:\n",
    "    for i in range(2, num):\n",
    "        if num % i == 0:\n",
    "            break\n",
    "    else:\n",
    "        prime_list.append(num)\n",
    "    num += 1\n",
    "\n",
    "print(prime_list)"
   ]
  },
  {
   "cell_type": "markdown",
   "id": "c0c9029b",
   "metadata": {},
   "source": [
    "# Exercise 3\n",
    "Take in a users input for their age, if they are younger than 18 print kids, if they're 18 to 65 print adults, else print seniors. Gracefully log the error if the user doesn't enter a number"
   ]
  },
  {
   "cell_type": "code",
   "execution_count": null,
   "id": "e25b4ae6",
   "metadata": {},
   "outputs": [],
   "source": [
    "age = input()\n",
    "\n",
    "if age < 18:\n",
    "    print (kids)\n",
    "elif age >= 18 and age <= 65:\n",
    "    print (adults)\n",
    "else:\n",
    "    print (seniors)\n",
    "\n",
    "if age =\"\":\n",
    "    print (\"Please enter your age\")"
   ]
  }
 ],
 "metadata": {
  "kernelspec": {
   "display_name": "Python 3 (ipykernel)",
   "language": "python",
   "name": "python3"
  },
  "language_info": {
   "codemirror_mode": {
    "name": "ipython",
    "version": 3
   },
   "file_extension": ".py",
   "mimetype": "text/x-python",
   "name": "python",
   "nbconvert_exporter": "python",
   "pygments_lexer": "ipython3",
   "version": "3.9.13"
  }
 },
 "nbformat": 4,
 "nbformat_minor": 5
}
